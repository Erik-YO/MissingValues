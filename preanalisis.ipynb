{
 "cells": [
  {
   "cell_type": "markdown",
   "metadata": {},
   "source": [
    "# Descripción del dataset original"
   ]
  },
  {
   "cell_type": "markdown",
   "metadata": {},
   "source": [
    "## Carga del dataset"
   ]
  },
  {
   "cell_type": "code",
   "execution_count": null,
   "metadata": {},
   "outputs": [],
   "source": [
    "import pandas as pd\n",
    "\n",
    "import matplotlib.pyplot as plt\n",
    "import seaborn as sns\n",
    "\n",
    "from sklearn.ensemble import RandomForestClassifier"
   ]
  },
  {
   "cell_type": "code",
   "execution_count": null,
   "metadata": {},
   "outputs": [],
   "source": [
    "#from scipy.io.arff import loadarff\n",
    "# raw_data = loadarff('../eeg-eye-state.arff')\n",
    "# dataset = pd.DataFrame(raw_data[0])\n",
    "# dataset.to_csv('../eeg-eye-state.csv')\n",
    "# # + eliminar primera columna de indice"
   ]
  },
  {
   "cell_type": "code",
   "execution_count": null,
   "metadata": {},
   "outputs": [],
   "source": [
    "dataset = pd.read_csv('./eeg-eye-state.csv')"
   ]
  },
  {
   "cell_type": "code",
   "execution_count": null,
   "metadata": {},
   "outputs": [],
   "source": [
    "dataset"
   ]
  },
  {
   "cell_type": "markdown",
   "metadata": {},
   "source": [
    "## Descripción de las variables"
   ]
  },
  {
   "cell_type": "code",
   "execution_count": null,
   "metadata": {},
   "outputs": [],
   "source": [
    "dataset.describe()"
   ]
  },
  {
   "cell_type": "code",
   "execution_count": null,
   "metadata": {},
   "outputs": [],
   "source": [
    "dataset.keys()"
   ]
  },
  {
   "cell_type": "code",
   "execution_count": null,
   "metadata": {},
   "outputs": [],
   "source": [
    "# https://stackoverflow.com/questions/4700614/how-to-put-the-legend-outside-the-plot\n",
    "\n",
    "description = dataset.describe()[[col for col in dataset.columns if col != 'Class']]\n",
    "\n",
    "fig = plt.figure()\n",
    "ax = plt.subplot(111)\n",
    "\n",
    "ax.set_yscale('log')\n",
    "ax.plot(description, label=description.columns)\n",
    "\n",
    "box = ax.get_position()\n",
    "ax.set_position([\n",
    "    box.x0, box.y0 + box.height * 0.1, box.width, box.height * 0.9])\n",
    "ax.legend(\n",
    "    loc='upper center', bbox_to_anchor=(0.5, -0.05),\n",
    "    ncol=5, fancybox=True, shadow=True)\n",
    "plt.show()"
   ]
  },
  {
   "cell_type": "code",
   "execution_count": null,
   "metadata": {},
   "outputs": [],
   "source": [
    "sns.set_theme(style=\"ticks\")\n",
    "sns.pairplot(dataset, hue=\"Class\")\n",
    "plt.savefig('./resultados/pairplot_variables.svg', format='svg',\n",
    "    dpi=400, bbox_inches='tight')"
   ]
  },
  {
   "cell_type": "code",
   "execution_count": null,
   "metadata": {},
   "outputs": [],
   "source": [
    "sns.set_theme(style=\"ticks\")\n",
    "\n",
    "atrs = ['V3', 'V6', 'V9']\n",
    "outliers = dataset['Class'] < -1  # Establecer todo a False\n",
    "for a in atrs:\n",
    "    v = dataset[a]\n",
    "    outliers |= (v > (v.mean() + 3 * v.std())) | (v < (v.mean() - 3 * v.std()))\n",
    "\n",
    "sns.pairplot(dataset[[*atrs, 'Class']][~outliers], hue=\"Class\")\n",
    "plt.savefig('./resultados/pairplot_variables.svg', format='svg',\n",
    "    dpi=400, bbox_inches='tight')"
   ]
  },
  {
   "cell_type": "code",
   "execution_count": null,
   "metadata": {},
   "outputs": [],
   "source": [
    "dataset.corr()"
   ]
  },
  {
   "cell_type": "markdown",
   "metadata": {},
   "source": [
    "## Importancia de las variables"
   ]
  },
  {
   "cell_type": "code",
   "execution_count": null,
   "metadata": {},
   "outputs": [],
   "source": [
    "# https://stackabuse.com/get-feature-importances-for-random-forests-with-python-and-scikit-learn/"
   ]
  },
  {
   "cell_type": "code",
   "execution_count": null,
   "metadata": {},
   "outputs": [],
   "source": [
    "x, y = dataset.loc[:, dataset.columns != 'Class'], dataset['Class'].astype(int)"
   ]
  },
  {
   "cell_type": "code",
   "execution_count": null,
   "metadata": {},
   "outputs": [],
   "source": [
    "rf = RandomForestClassifier(n_estimators=300)\n",
    "_ = rf.fit(x, y)  # ~15 sec."
   ]
  },
  {
   "cell_type": "code",
   "execution_count": null,
   "metadata": {},
   "outputs": [],
   "source": [
    "plt.bar(rf.feature_names_in_, rf.feature_importances_)\n",
    "plt.show()"
   ]
  },
  {
   "cell_type": "code",
   "execution_count": null,
   "metadata": {},
   "outputs": [],
   "source": [
    "correlation = dataset.corr().abs()  # Interesan los que tengan más correlación (positiva o negativa)\n",
    "sns.heatmap(correlation, cmap='coolwarm')"
   ]
  },
  {
   "cell_type": "markdown",
   "metadata": {},
   "source": [
    "Nos fijamos en las correlaciones más cercanas a 1 (o a -1 si las hubiera)"
   ]
  },
  {
   "cell_type": "code",
   "execution_count": null,
   "metadata": {},
   "outputs": [],
   "source": [
    "correlation[['V1', 'V9', 'V13']].loc[[(c in ('V1', 'V9', 'V13')) for c in correlation.columns]]"
   ]
  },
  {
   "cell_type": "code",
   "execution_count": null,
   "metadata": {},
   "outputs": [],
   "source": [
    "correlation[['V4', 'V7']].loc[[(c in ('V4', 'V7')) for c in correlation.columns]]"
   ]
  },
  {
   "cell_type": "code",
   "execution_count": null,
   "metadata": {},
   "outputs": [],
   "source": [
    "correlation[['V6', 'V14']].loc[[(c in ('V6', 'V14')) for c in correlation.columns]]"
   ]
  },
  {
   "cell_type": "markdown",
   "metadata": {},
   "source": [
    "Vemos que estos pares tienen una correlación de prácticamente 1:\n",
    "- V1-V9\n",
    "- V9-V13\n",
    "- V1-V13\n",
    "- V6-V14\n",
    "- V4-V7\n",
    "\n",
    "Por lo tanto podríamos prescindir de todos los atributos excepto uno de cada grupo:\n",
    "- V1-V9-V13\n",
    "- V4-V7\n",
    "- V6-14\n",
    "\n",
    "Eliminamos V7, V9, V13 y V14."
   ]
  },
  {
   "cell_type": "code",
   "execution_count": null,
   "metadata": {},
   "outputs": [],
   "source": [
    "new_dataset = dataset[[col for col in dataset.columns if col not in ('V7', 'V9', 'V13', 'V14')]]\n",
    "new_dataset"
   ]
  },
  {
   "cell_type": "code",
   "execution_count": null,
   "metadata": {},
   "outputs": [],
   "source": [
    "new_x, new_y = new_dataset.loc[:, new_dataset.columns != 'Class'], new_dataset['Class'].astype(int)"
   ]
  },
  {
   "cell_type": "code",
   "execution_count": null,
   "metadata": {},
   "outputs": [],
   "source": [
    "new_rf = RandomForestClassifier(n_estimators=300)\n",
    "_ = new_rf.fit(new_x, new_y)  # ~15 sec."
   ]
  },
  {
   "cell_type": "code",
   "execution_count": null,
   "metadata": {},
   "outputs": [],
   "source": [
    "plt.bar(new_rf.feature_names_in_, new_rf.feature_importances_)\n",
    "plt.show()"
   ]
  },
  {
   "cell_type": "code",
   "execution_count": null,
   "metadata": {},
   "outputs": [],
   "source": [
    "# https://stackoverflow.com/questions/4700614/how-to-put-the-legend-outside-the-plot\n",
    "\n",
    "new_description = new_dataset.describe()[[col for col in new_dataset.columns if col != 'Class']]\n",
    "\n",
    "fig = plt.figure()\n",
    "ax = plt.subplot(111)\n",
    "\n",
    "ax.set_yscale('log')\n",
    "ax.plot(new_description, label=new_description.columns)\n",
    "\n",
    "box = ax.get_position()\n",
    "ax.set_position([\n",
    "    box.x0, box.y0 + box.height * 0.1, box.width, box.height * 0.9])\n",
    "ax.legend(\n",
    "    loc='upper center', bbox_to_anchor=(0.5, -0.05),\n",
    "    ncol=5, fancybox=True, shadow=True)\n",
    "plt.show()"
   ]
  },
  {
   "cell_type": "code",
   "execution_count": null,
   "metadata": {},
   "outputs": [],
   "source": [
    "new_correlation = new_dataset.corr().abs()\n",
    "sns.heatmap(new_correlation, cmap='coolwarm')"
   ]
  },
  {
   "cell_type": "markdown",
   "metadata": {},
   "source": [
    "---"
   ]
  },
  {
   "cell_type": "code",
   "execution_count": null,
   "metadata": {},
   "outputs": [],
   "source": [
    "features = ['V6', 'V9', ]\n",
    "fmin, fmax = 4000, 4800\n",
    "limin, limax = 4000, 4800\n",
    "\n",
    "class_values = [0, 1]\n",
    "class_colors = ['#1e64fa', '#fa641e']\n",
    "\n",
    "fsize = 19\n",
    "plots = (1, len(features))\n",
    "feature = dataset[features[0]]\n",
    "\n",
    "img, _s = plt.subplots(*plots, figsize=(13, 6))\n",
    "img.tight_layout()\n",
    "clase = dataset['Class']\n",
    "datapresent = (feature > fmin) & (feature < fmax)\n",
    "\n",
    "for i, f in enumerate(features):\n",
    "    plt.subplot(*plots, i + 1)\n",
    "    for cv, color in zip(class_values, class_colors):\n",
    "        sns.kdeplot(\n",
    "            dataset[datapresent & (clase == cv)][[f]],\n",
    "            palette=[color], label=str(cv), legend=(i + 1 == len(features)), )\n",
    "        plt.title(f, fontsize=fsize)\n",
    "    plt.ylabel('')\n",
    "    plt.xlim(limin, limax)\n",
    "\n",
    "plt.legend(fontsize=fsize)\n",
    "plt.savefig(\n",
    "    f'./resultados/comparacion_densidad_{\"_\".join(features)}.svg',\n",
    "    format='svg', dpi=400, bbox_inches='tight')\n",
    "\n",
    "#plt.show()\n"
   ]
  },
  {
   "cell_type": "code",
   "execution_count": null,
   "metadata": {},
   "outputs": [],
   "source": [
    "features = ['V6', 'V9']\n",
    "fmin, fmax = 4500, 4800\n",
    "\n",
    "class_values = [0, 1]\n",
    "class_colors = ['#1e64fa', '#fa641e']\n",
    "\n",
    "fsize = 19\n",
    "plots = (1, len(features))\n",
    "feature = dataset[features[0]]\n",
    "\n",
    "img, _s = plt.subplots(*plots, figsize=(13, 6))\n",
    "img.tight_layout()\n",
    "clase = dataset['Class']\n",
    "datapresent = (feature > fmin) & (feature < fmax)\n",
    "\n",
    "for i, f in enumerate(features):\n",
    "    plt.subplot(*plots, i + 1)\n",
    "    for cv, color in zip(class_values, class_colors):\n",
    "        sns.kdeplot(\n",
    "            dataset[datapresent & (clase == cv)][[f]],\n",
    "            palette=[color], label=str(cv), legend=(i + 1 == len(features)), )\n",
    "        plt.title(f, fontsize=fsize)\n",
    "    plt.ylabel('')\n",
    "\n",
    "plt.legend(fontsize=fsize)\n",
    "plt.savefig(\n",
    "    f'./resultados/comparacion_densidad_{\"_\".join(features)}.svg',\n",
    "    format='svg', dpi=400, bbox_inches='tight')\n",
    "\n",
    "#plt.show()\n"
   ]
  },
  {
   "cell_type": "markdown",
   "metadata": {},
   "source": [
    "---"
   ]
  }
 ],
 "metadata": {
  "kernelspec": {
   "display_name": "Python 3",
   "language": "python",
   "name": "python3"
  },
  "language_info": {
   "codemirror_mode": {
    "name": "ipython",
    "version": 3
   },
   "file_extension": ".py",
   "mimetype": "text/x-python",
   "name": "python",
   "nbconvert_exporter": "python",
   "pygments_lexer": "ipython3",
   "version": "0.0.0"
  }
 },
 "nbformat": 4,
 "nbformat_minor": 2
}
